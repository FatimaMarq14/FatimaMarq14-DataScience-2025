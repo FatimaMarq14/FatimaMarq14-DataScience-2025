{
  "cells": [
    {
      "cell_type": "markdown",
      "id": "ba110f51",
      "metadata": {
        "id": "ba110f51"
      },
      "source": [
        "# 📘 03 - Python Dictionaries\n",
        "\n",
        "Dictionaries store key-value pairs for fast lookups."
      ]
    },
    {
      "cell_type": "markdown",
      "id": "32ad5c23",
      "metadata": {
        "id": "32ad5c23"
      },
      "source": [
        "## ✅ Learning Goals\n",
        "- Create and access dictionary items\n",
        "- Use dictionary methods like `.get()` and `.items()`"
      ]
    },
    {
      "cell_type": "code",
      "execution_count": 1,
      "id": "d69a5483",
      "metadata": {
        "id": "d69a5483",
        "outputId": "d043208d-7c80-4ad0-efdc-ebe4c37c7176",
        "colab": {
          "base_uri": "https://localhost:8080/"
        }
      },
      "outputs": [
        {
          "output_type": "stream",
          "name": "stdout",
          "text": [
            "{'name': 'Alex', 'age': 21, 'major': 'CS'}\n"
          ]
        }
      ],
      "source": [
        "# 📚 Create a Dictionary\n",
        "student = {'name': 'Alex', 'age': 21, 'major': 'CS'}\n",
        "print(student)"
      ]
    },
    {
      "cell_type": "code",
      "execution_count": 2,
      "id": "c014213d",
      "metadata": {
        "id": "c014213d",
        "outputId": "1d5bac77-1f73-485b-aedc-27928865c644",
        "colab": {
          "base_uri": "https://localhost:8080/"
        }
      },
      "outputs": [
        {
          "output_type": "stream",
          "name": "stdout",
          "text": [
            "Alex\n",
            "N/A\n"
          ]
        }
      ],
      "source": [
        "# 🔍 Access Values\n",
        "print(student['name'])\n",
        "print(student.get('gpa', 'N/A'))"
      ]
    },
    {
      "cell_type": "code",
      "execution_count": 3,
      "id": "f80fb0b2",
      "metadata": {
        "id": "f80fb0b2",
        "outputId": "da26cea3-1e3d-4533-af70-87c8b1031629",
        "colab": {
          "base_uri": "https://localhost:8080/"
        }
      },
      "outputs": [
        {
          "output_type": "stream",
          "name": "stdout",
          "text": [
            "name -> Alex\n",
            "age -> 21\n",
            "major -> CS\n"
          ]
        }
      ],
      "source": [
        "# 🔁 Loop Over Dictionary\n",
        "for key, value in student.items():\n",
        "    print(key, '->', value)"
      ]
    },
    {
      "cell_type": "markdown",
      "id": "aa0e1c66",
      "metadata": {
        "id": "aa0e1c66"
      },
      "source": [
        "## ✏️ Your Turn\n",
        "Create a dictionary to store information about your favorite book."
      ]
    },
    {
      "cell_type": "code",
      "source": [
        "book = {'Title': 'The Hunger Games', 'Author': 'Suzanne Collins', 'Genre': 'Dystopian'}\n",
        "print(book)\n"
      ],
      "metadata": {
        "id": "7yHe0mJF4y74",
        "outputId": "58764ec0-6e57-4986-8ea4-81eca84d2a85",
        "colab": {
          "base_uri": "https://localhost:8080/"
        }
      },
      "id": "7yHe0mJF4y74",
      "execution_count": 4,
      "outputs": [
        {
          "output_type": "stream",
          "name": "stdout",
          "text": [
            "{'Title': 'The Hunger Games', 'Author': 'Suzanne Collins', 'Genre': 'Dystopian'}\n"
          ]
        }
      ]
    }
  ],
  "metadata": {
    "colab": {
      "provenance": []
    },
    "language_info": {
      "name": "python"
    },
    "kernelspec": {
      "name": "python3",
      "display_name": "Python 3"
    }
  },
  "nbformat": 4,
  "nbformat_minor": 5
}
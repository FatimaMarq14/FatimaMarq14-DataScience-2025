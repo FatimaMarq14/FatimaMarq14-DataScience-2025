{
  "cells": [
    {
      "cell_type": "markdown",
      "id": "d691fc24",
      "metadata": {
        "id": "d691fc24"
      },
      "source": [
        "# 📘 02 - Control Flow\n",
        "\n",
        "Learn how to use conditional logic in Python."
      ]
    },
    {
      "cell_type": "markdown",
      "id": "07e43ba3",
      "metadata": {
        "id": "07e43ba3"
      },
      "source": [
        "## ✅ Learning Goals\n",
        "- Write `if`, `elif`, `else` statements\n",
        "- Understand truthy/falsy values\n",
        "- Combine conditions using `and`, `or`, `not`"
      ]
    },
    {
      "cell_type": "code",
      "execution_count": 2,
      "id": "3c8cac6d",
      "metadata": {
        "id": "3c8cac6d",
        "outputId": "d03a3423-bb35-4b50-acd7-9e20fdb0bb96",
        "colab": {
          "base_uri": "https://localhost:8080/"
        }
      },
      "outputs": [
        {
          "output_type": "stream",
          "name": "stdout",
          "text": [
            "You are an adult.\n"
          ]
        }
      ],
      "source": [
        "# 🔧 Basic example\n",
        "age = 20\n",
        "if age >= 18:\n",
        "    print('You are an adult.')\n",
        "else:\n",
        "    print('You are a minor.')"
      ]
    },
    {
      "cell_type": "markdown",
      "id": "ae0d2437",
      "metadata": {
        "id": "ae0d2437"
      },
      "source": [
        "## 🔀 Multiple Branches"
      ]
    },
    {
      "cell_type": "code",
      "execution_count": 3,
      "id": "e2527038",
      "metadata": {
        "id": "e2527038",
        "outputId": "69ede127-f35a-49cc-8121-de2a6cd8ba6e",
        "colab": {
          "base_uri": "https://localhost:8080/"
        }
      },
      "outputs": [
        {
          "output_type": "stream",
          "name": "stdout",
          "text": [
            "Just right.\n"
          ]
        }
      ],
      "source": [
        "temp = 72\n",
        "if temp > 90:\n",
        "    print('Too hot!')\n",
        "elif temp < 60:\n",
        "    print('Too cold!')\n",
        "else:\n",
        "    print('Just right.')"
      ]
    },
    {
      "cell_type": "markdown",
      "id": "b2aa7088",
      "metadata": {
        "id": "b2aa7088"
      },
      "source": [
        "### ✏️ Your Turn\n",
        "Use `input()` to ask a user their grade and print a message based on value."
      ]
    },
    {
      "cell_type": "code",
      "execution_count": 7,
      "id": "f096a974",
      "metadata": {
        "id": "f096a974",
        "outputId": "43c3db9f-687e-4647-8a0b-589455b75a77",
        "colab": {
          "base_uri": "https://localhost:8080/"
        }
      },
      "outputs": [
        {
          "output_type": "stream",
          "name": "stdout",
          "text": [
            "Enter your grade: 79\n",
            "You are not locked in.\n"
          ]
        }
      ],
      "source": [
        "# Example:\n",
        "# grade = int(input('Enter your score: '))\n",
        "# if grade >= 90:\n",
        "#     print('A')\n",
        "# elif grade >= 80:\n",
        "#     print('B')\n",
        "# ...\n",
        "\n",
        "grade = int(input('Enter your grade: '))\n",
        "\n",
        "if grade >= 90:\n",
        "    print ('Awesome! You are locked in.')\n",
        "elif grade >= 80:\n",
        "    print (\"Not bad keep it up.\")\n",
        "elif grade >=70:\n",
        "    print (\"You are not locked in.\")"
      ]
    }
  ],
  "metadata": {
    "colab": {
      "provenance": []
    },
    "language_info": {
      "name": "python"
    },
    "kernelspec": {
      "name": "python3",
      "display_name": "Python 3"
    }
  },
  "nbformat": 4,
  "nbformat_minor": 5
}